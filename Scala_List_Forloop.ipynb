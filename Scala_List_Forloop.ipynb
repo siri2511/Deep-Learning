{
  "nbformat": 4,
  "nbformat_minor": 0,
  "metadata": {
    "colab": {
      "provenance": [],
      "authorship_tag": "ABX9TyOuAlKLjjGNrVGTOcbL/EuI",
      "include_colab_link": true
    },
    "kernelspec": {
      "name": "python3",
      "display_name": "Python 3"
    },
    "language_info": {
      "name": "python"
    }
  },
  "cells": [
    {
      "cell_type": "markdown",
      "metadata": {
        "id": "view-in-github",
        "colab_type": "text"
      },
      "source": [
        "<a href=\"https://colab.research.google.com/github/siri2511/Deep-Learning/blob/main/Scala_List_Forloop.ipynb\" target=\"_parent\"><img src=\"https://colab.research.google.com/assets/colab-badge.svg\" alt=\"Open In Colab\"/></a>"
      ]
    },
    {
      "cell_type": "code",
      "execution_count": 1,
      "metadata": {
        "colab": {
          "base_uri": "https://localhost:8080/"
        },
        "id": "NT2g7fU8ezPC",
        "outputId": "bdcdfec9-aa94-4141-80da-78dd7707df0e"
      },
      "outputs": [
        {
          "output_type": "stream",
          "name": "stdout",
          "text": [
            "Output after forward pass:\n",
            "[array([0.70056714, 0.64106741]), array([0.62714777, 0.6479408 ]), array([0.70266065, 0.74649398])]\n"
          ]
        }
      ],
      "source": [
        "!apt-get install openjdk-8-jdk-headless -qq > /dev/null\n",
        "!wget -q https://archive.apache.org/dist/spark/spark-3.4.0/spark-3.4.0-bin-hadoop3.tgz\n",
        "!tar xf spark-3.4.0-bin-hadoop3.tgz\n",
        "!pip install -q findspark\n",
        "import os\n",
        "os.environ[\"JAVA_HOME\"] = \"/usr/lib/jvm/java-8-openjdk-amd64\"\n",
        "os.environ[\"SPARK_HOME\"] = \"/content/spark-3.4.0-bin-hadoop3\"\n",
        "import findspark\n",
        "findspark.init()\n",
        "from pyspark.sql import SparkSession\n",
        "spark = SparkSession.builder.master(\"local[*]\").getOrCreate()\n",
        "rdd = spark.sparkContext.parallelize([1,2,3,4,5])\n",
        "squared_rdd = rdd.map(lambda x: x*x)\n",
        "squared_rdd.collect()\n",
        "import numpy as np\n",
        "from pyspark.sql import SparkSession\n",
        "spark = SparkSession.builder.master(\"local[*]\").getOrCreate()\n",
        "input_data = [\n",
        "    np.array([0.1, 0.2, 0.7]),\n",
        "    np.array([0.4, 0.5, 0.1]),\n",
        "    np.array([0.9, 0.8, 0.2])\n",
        "]\n",
        "weights = np.array([\n",
        "    [0.2, 0.8],\n",
        "    [0.5, 0.1],\n",
        "    [0.9, 0.4]\n",
        "])\n",
        "biases = np.array([0.1, 0.2])\n",
        "def sigmoid(x):\n",
        "    return 1 / (1 + np.exp(-x))\n",
        "outputs = []\n",
        "for sample in input_data:\n",
        "  z=np.dot(sample,weights)+biases\n",
        "  output=sigmoid(z)\n",
        "  outputs.append(output)\n",
        "rdd = spark.sparkContext.parallelize(outputs)\n",
        "print(\"Output after forward pass:\")\n",
        "print(rdd.collect())\n"
      ]
    },
    {
      "cell_type": "code",
      "source": [],
      "metadata": {
        "id": "d4DrifAlfp7f"
      },
      "execution_count": null,
      "outputs": []
    }
  ]
}